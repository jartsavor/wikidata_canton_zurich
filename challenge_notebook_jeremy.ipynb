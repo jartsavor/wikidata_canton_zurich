{
 "cells": [
  {
   "cell_type": "code",
   "execution_count": 38,
   "metadata": {},
   "outputs": [],
   "source": [
    "import requests\n",
    "import pandas as pd\n",
    "import matplotlib.pyplot as plt\n",
    "import seaborn as sns"
   ]
  },
  {
   "cell_type": "code",
   "execution_count": 219,
   "metadata": {},
   "outputs": [],
   "source": [
    "plt.style.use('ggplot')\n",
    "plt.rcParams['figure.figsize'] = (12,10)"
   ]
  },
  {
   "cell_type": "code",
   "execution_count": 220,
   "metadata": {},
   "outputs": [],
   "source": [
    "page = requests.get('http://193.246.68.117:8080/gp/GP?type=EXPORT&indikatoren=373&raumtyp=1&text=yes')"
   ]
  },
  {
   "cell_type": "code",
   "execution_count": 221,
   "metadata": {},
   "outputs": [],
   "source": [
    "zuri_json = page.json()"
   ]
  },
  {
   "cell_type": "code",
   "execution_count": 222,
   "metadata": {},
   "outputs": [
    {
     "data": {
      "text/plain": [
       "dict_keys(['RAUM', 'INDIKATOR'])"
      ]
     },
     "execution_count": 222,
     "metadata": {},
     "output_type": "execute_result"
    }
   ],
   "source": [
    "zuri_json.keys()"
   ]
  },
  {
   "cell_type": "code",
   "execution_count": 223,
   "metadata": {},
   "outputs": [],
   "source": [
    "raum_json = zuri_json['RAUM']"
   ]
  },
  {
   "cell_type": "code",
   "execution_count": 224,
   "metadata": {},
   "outputs": [],
   "source": [
    "indi_json = zuri_json['INDIKATOR']"
   ]
  },
  {
   "cell_type": "code",
   "execution_count": 225,
   "metadata": {},
   "outputs": [],
   "source": [
    "raum_df = pd.io.json.json_normalize(raum_json)"
   ]
  },
  {
   "cell_type": "code",
   "execution_count": 226,
   "metadata": {},
   "outputs": [
    {
     "data": {
      "text/html": [
       "<div>\n",
       "<style scoped>\n",
       "    .dataframe tbody tr th:only-of-type {\n",
       "        vertical-align: middle;\n",
       "    }\n",
       "\n",
       "    .dataframe tbody tr th {\n",
       "        vertical-align: top;\n",
       "    }\n",
       "\n",
       "    .dataframe thead th {\n",
       "        text-align: right;\n",
       "    }\n",
       "</style>\n",
       "<table border=\"1\" class=\"dataframe\">\n",
       "  <thead>\n",
       "    <tr style=\"text-align: right;\">\n",
       "      <th></th>\n",
       "      <th>ALLE_JAHRE</th>\n",
       "      <th>ALLE_WERTE.1984</th>\n",
       "      <th>ALLE_WERTE.1985</th>\n",
       "      <th>ALLE_WERTE.1986</th>\n",
       "      <th>ALLE_WERTE.1987</th>\n",
       "      <th>ALLE_WERTE.1988</th>\n",
       "      <th>ALLE_WERTE.1989</th>\n",
       "      <th>ALLE_WERTE.1990</th>\n",
       "      <th>ALLE_WERTE.1991</th>\n",
       "      <th>ALLE_WERTE.1992</th>\n",
       "      <th>...</th>\n",
       "      <th>ALLE_WERTE.2013</th>\n",
       "      <th>ALLE_WERTE.2014</th>\n",
       "      <th>ALLE_WERTE.2015</th>\n",
       "      <th>ALLE_WERTE.2016</th>\n",
       "      <th>ALLE_WERTE.2017</th>\n",
       "      <th>ALLE_WERTE.2018</th>\n",
       "      <th>BFS</th>\n",
       "      <th>DATEN_VORHANDEN</th>\n",
       "      <th>RAUMEINHEIT_ID</th>\n",
       "      <th>RAUMEINHEIT_NAME</th>\n",
       "    </tr>\n",
       "  </thead>\n",
       "  <tbody>\n",
       "    <tr>\n",
       "      <th>0</th>\n",
       "      <td>[2018, 2017, 2016, 2015, 2014, 2013, 2012, 201...</td>\n",
       "      <td>1.49</td>\n",
       "      <td>3.62</td>\n",
       "      <td>2.67</td>\n",
       "      <td>2.60</td>\n",
       "      <td>1.27</td>\n",
       "      <td>0.61</td>\n",
       "      <td>0.00</td>\n",
       "      <td>2.30</td>\n",
       "      <td>2.79</td>\n",
       "      <td>...</td>\n",
       "      <td>1.69</td>\n",
       "      <td>0.82</td>\n",
       "      <td>2.30</td>\n",
       "      <td>0.72</td>\n",
       "      <td>1.79</td>\n",
       "      <td>0.34</td>\n",
       "      <td>21</td>\n",
       "      <td>TRUE</td>\n",
       "      <td>15</td>\n",
       "      <td>Adlikon</td>\n",
       "    </tr>\n",
       "    <tr>\n",
       "      <th>1</th>\n",
       "      <td>[2018, 2017, 2016, 2015, 2014, 2013, 2012, 201...</td>\n",
       "      <td>0.10</td>\n",
       "      <td>0.28</td>\n",
       "      <td>0.00</td>\n",
       "      <td>0.29</td>\n",
       "      <td>0.08</td>\n",
       "      <td>0.00</td>\n",
       "      <td>0.00</td>\n",
       "      <td>0.03</td>\n",
       "      <td>0.49</td>\n",
       "      <td>...</td>\n",
       "      <td>0.89</td>\n",
       "      <td>0.44</td>\n",
       "      <td>0.77</td>\n",
       "      <td>0.65</td>\n",
       "      <td>0.86</td>\n",
       "      <td>0.90</td>\n",
       "      <td>131</td>\n",
       "      <td>TRUE</td>\n",
       "      <td>94</td>\n",
       "      <td>Adliswil</td>\n",
       "    </tr>\n",
       "    <tr>\n",
       "      <th>2</th>\n",
       "      <td>[2018, 2017, 2016, 2015, 2014, 2013, 2012, 201...</td>\n",
       "      <td>0.63</td>\n",
       "      <td>0.00</td>\n",
       "      <td>3.70</td>\n",
       "      <td>0.00</td>\n",
       "      <td>0.00</td>\n",
       "      <td>0.00</td>\n",
       "      <td>0.00</td>\n",
       "      <td>0.00</td>\n",
       "      <td>0.00</td>\n",
       "      <td>...</td>\n",
       "      <td>1.17</td>\n",
       "      <td>1.09</td>\n",
       "      <td>1.08</td>\n",
       "      <td>6.12</td>\n",
       "      <td>0.83</td>\n",
       "      <td>4.38</td>\n",
       "      <td>241</td>\n",
       "      <td>TRUE</td>\n",
       "      <td>160</td>\n",
       "      <td>Aesch ZH</td>\n",
       "    </tr>\n",
       "    <tr>\n",
       "      <th>3</th>\n",
       "      <td>[2018, 2017, 2016, 2015, 2014, 2013, 2012, 201...</td>\n",
       "      <td>0.64</td>\n",
       "      <td>0.32</td>\n",
       "      <td>0.31</td>\n",
       "      <td>0.00</td>\n",
       "      <td>0.30</td>\n",
       "      <td>0.00</td>\n",
       "      <td>0.00</td>\n",
       "      <td>0.64</td>\n",
       "      <td>1.06</td>\n",
       "      <td>...</td>\n",
       "      <td>0.47</td>\n",
       "      <td>1.60</td>\n",
       "      <td>2.05</td>\n",
       "      <td>2.15</td>\n",
       "      <td>2.60</td>\n",
       "      <td>1.55</td>\n",
       "      <td>1</td>\n",
       "      <td>TRUE</td>\n",
       "      <td>1</td>\n",
       "      <td>Aeugst a.A.</td>\n",
       "    </tr>\n",
       "    <tr>\n",
       "      <th>4</th>\n",
       "      <td>[2018, 2017, 2016, 2015, 2014, 2013, 2012, 201...</td>\n",
       "      <td>0.67</td>\n",
       "      <td>0.64</td>\n",
       "      <td>0.37</td>\n",
       "      <td>0.11</td>\n",
       "      <td>0.27</td>\n",
       "      <td>0.13</td>\n",
       "      <td>0.08</td>\n",
       "      <td>0.08</td>\n",
       "      <td>0.16</td>\n",
       "      <td>...</td>\n",
       "      <td>0.42</td>\n",
       "      <td>0.59</td>\n",
       "      <td>0.82</td>\n",
       "      <td>0.77</td>\n",
       "      <td>1.21</td>\n",
       "      <td>1.46</td>\n",
       "      <td>2</td>\n",
       "      <td>TRUE</td>\n",
       "      <td>2</td>\n",
       "      <td>Affoltern a.A.</td>\n",
       "    </tr>\n",
       "  </tbody>\n",
       "</table>\n",
       "<p>5 rows × 40 columns</p>\n",
       "</div>"
      ],
      "text/plain": [
       "                                          ALLE_JAHRE ALLE_WERTE.1984  \\\n",
       "0  [2018, 2017, 2016, 2015, 2014, 2013, 2012, 201...            1.49   \n",
       "1  [2018, 2017, 2016, 2015, 2014, 2013, 2012, 201...            0.10   \n",
       "2  [2018, 2017, 2016, 2015, 2014, 2013, 2012, 201...            0.63   \n",
       "3  [2018, 2017, 2016, 2015, 2014, 2013, 2012, 201...            0.64   \n",
       "4  [2018, 2017, 2016, 2015, 2014, 2013, 2012, 201...            0.67   \n",
       "\n",
       "  ALLE_WERTE.1985 ALLE_WERTE.1986 ALLE_WERTE.1987 ALLE_WERTE.1988  \\\n",
       "0            3.62            2.67            2.60            1.27   \n",
       "1            0.28            0.00            0.29            0.08   \n",
       "2            0.00            3.70            0.00            0.00   \n",
       "3            0.32            0.31            0.00            0.30   \n",
       "4            0.64            0.37            0.11            0.27   \n",
       "\n",
       "  ALLE_WERTE.1989 ALLE_WERTE.1990 ALLE_WERTE.1991 ALLE_WERTE.1992  \\\n",
       "0            0.61            0.00            2.30            2.79   \n",
       "1            0.00            0.00            0.03            0.49   \n",
       "2            0.00            0.00            0.00            0.00   \n",
       "3            0.00            0.00            0.64            1.06   \n",
       "4            0.13            0.08            0.08            0.16   \n",
       "\n",
       "        ...        ALLE_WERTE.2013 ALLE_WERTE.2014 ALLE_WERTE.2015  \\\n",
       "0       ...                   1.69            0.82            2.30   \n",
       "1       ...                   0.89            0.44            0.77   \n",
       "2       ...                   1.17            1.09            1.08   \n",
       "3       ...                   0.47            1.60            2.05   \n",
       "4       ...                   0.42            0.59            0.82   \n",
       "\n",
       "  ALLE_WERTE.2016 ALLE_WERTE.2017 ALLE_WERTE.2018  BFS DATEN_VORHANDEN  \\\n",
       "0            0.72            1.79            0.34   21            TRUE   \n",
       "1            0.65            0.86            0.90  131            TRUE   \n",
       "2            6.12            0.83            4.38  241            TRUE   \n",
       "3            2.15            2.60            1.55    1            TRUE   \n",
       "4            0.77            1.21            1.46    2            TRUE   \n",
       "\n",
       "  RAUMEINHEIT_ID RAUMEINHEIT_NAME  \n",
       "0             15          Adlikon  \n",
       "1             94         Adliswil  \n",
       "2            160         Aesch ZH  \n",
       "3              1      Aeugst a.A.  \n",
       "4              2   Affoltern a.A.  \n",
       "\n",
       "[5 rows x 40 columns]"
      ]
     },
     "execution_count": 226,
     "metadata": {},
     "output_type": "execute_result"
    }
   ],
   "source": [
    "raum_df.head()"
   ]
  },
  {
   "cell_type": "code",
   "execution_count": 41,
   "metadata": {},
   "outputs": [],
   "source": [
    "raum_df.columns = list(map(lambda x: x.replace('ALLE_WERTE.', '_'),raum_df.columns))"
   ]
  },
  {
   "cell_type": "code",
   "execution_count": 191,
   "metadata": {},
   "outputs": [],
   "source": [
    "raum_dates = raum_df.drop(['BFS', 'DATEN_VORHANDEN', 'ALLE_JAHRE', 'RAUMEINHEIT_ID', 'RAUMEINHEIT_NAME'], axis=1).astype(float)\n",
    "raum_dates.columns = raum_df.ALLE_JAHRE[0]\n",
    "raum_dates.index = raum_df.RAUMEINHEIT_NAME"
   ]
  },
  {
   "cell_type": "code",
   "execution_count": 218,
   "metadata": {},
   "outputs": [
    {
     "data": {
      "image/png": "[encoded data removed]",
      "text/plain": [
       "<Figure size 864x720 with 1 Axes>"
      ]
     },
     "metadata": {},
     "output_type": "display_data"
    }
   ],
   "source": [
    "raum_dates.head().T.plot.bar()\n",
    "None"
   ]
  },
  {
   "cell_type": "markdown",
   "metadata": {},
   "source": [
    "---"
   ]
  },
  {
   "cell_type": "code",
   "execution_count": 183,
   "metadata": {},
   "outputs": [],
   "source": [
    "def gemeinde_by_date(raum_df_, gemeinde):\n",
    "    df = raum_df[raum_df.RAUMEINHEIT_NAME == gemeinde]\n",
    "    ix = df.index[0]\n",
    "    years = df.ALLE_JAHRE.values[0]\n",
    "    df = df.drop(['BFS', 'DATEN_VORHANDEN', 'ALLE_JAHRE', 'RAUMEINHEIT_ID','RAUMEINHEIT_NAME'], axis=1).astype(float)\n",
    "    df.columns = years\n",
    "    return pd.DataFrame(df.stack()[ix], columns=[gemeinde])"
   ]
  },
  {
   "cell_type": "code",
   "execution_count": 184,
   "metadata": {},
   "outputs": [
    {
     "data": {
      "image/png": "[encoded data removed]",
      "text/plain": [
       "<Figure size 864x720 with 1 Axes>"
      ]
     },
     "metadata": {},
     "output_type": "display_data"
    }
   ],
   "source": [
    "gemeinde_by_date(raum_df, 'Affoltern a.A.').plot.bar()\n",
    "None"
   ]
  },
  {
   "cell_type": "code",
   "execution_count": 70,
   "metadata": {},
   "outputs": [
    {
     "data": {
      "image/png": "[encoded data removed]",
      "text/plain": [
       "<Figure size 864x720 with 1 Axes>"
      ]
     },
     "metadata": {},
     "output_type": "display_data"
    }
   ],
   "source": [
    "g = sns.barplot(raum_df.ALLE_JAHRE[0], raum_dates.iloc[0],label=raum_df.iloc[0].RAUMEINHEIT_NAME)\n",
    "locs, labels = plt.xticks()\n",
    "plt.xticks(locs, labels, rotation=-60)\n",
    "None"
   ]
  },
  {
   "cell_type": "markdown",
   "metadata": {},
   "source": [
    "---"
   ]
  },
  {
   "cell_type": "code",
   "execution_count": 31,
   "metadata": {},
   "outputs": [],
   "source": [
    "indi_df = pd.io.json.json_normalize(indi_json)"
   ]
  },
  {
   "cell_type": "code",
   "execution_count": 206,
   "metadata": {},
   "outputs": [
    {
     "data": {
      "text/plain": [
       "array(['Leerstehende Wohnungen am 1. Juni des Erhebungsjahres, gemessen am Wohnungsbestand Ende Vorjahr'],\n",
       "      dtype=object)"
      ]
     },
     "execution_count": 206,
     "metadata": {},
     "output_type": "execute_result"
    }
   ],
   "source": [
    "indi_df.INDIKATOR_DESC.values"
   ]
  }
 ],
 "metadata": {
  "kernelspec": {
   "display_name": "Python 3",
   "language": "python",
   "name": "python3"
  },
  "language_info": {
   "codemirror_mode": {
    "name": "ipython",
    "version": 3
   },
   "file_extension": ".py",
   "mimetype": "text/x-python",
   "name": "python",
   "nbconvert_exporter": "python",
   "pygments_lexer": "ipython3",
   "version": "3.5.0"
  }
 },
 "nbformat": 4,
 "nbformat_minor": 2
}
