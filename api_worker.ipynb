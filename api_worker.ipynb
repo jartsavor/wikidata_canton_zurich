{
 "cells": [
  {
   "cell_type": "code",
   "execution_count": 4,
   "metadata": {},
   "outputs": [],
   "source": [
    "import pandas as pd\n",
    "import requests\n",
    "import matplotlib.pyplot as plt\n",
    "import seaborn as sns\n"
   ]
  },
  {
   "cell_type": "code",
   "execution_count": 5,
   "metadata": {},
   "outputs": [],
   "source": [
    "plt.style.use('ggplot')\n",
    "plt.rcParams['figure.figsize'] = (12,10)"
   ]
  },
  {
   "cell_type": "code",
   "execution_count": null,
   "metadata": {},
   "outputs": [],
   "source": [
    "page_133 = requests.get('http://193.246.68.117:8080/gp/GP?type=EXPORT&indikatoren=133&raumtyp=1&text=yes')"
   ]
  },
  {
   "cell_type": "code",
   "execution_count": 11,
   "metadata": {},
   "outputs": [],
   "source": [
    "def api_get_dataframe(url_: str) -> (pd.DataFrame, pd.DataFrame):\n",
    "    json_ = requests.get(url_).json()\n",
    "    return (pd.io.json.json_normalize(json_['RAUM']),\n",
    "            pd.io.json.json_normalize(json_['RAUM']))"
   ]
  },
  {
   "cell_type": "code",
   "execution_count": 7,
   "metadata": {},
   "outputs": [],
   "source": [
    "raum, indi = api_get_dataframe('http://193.246.68.117:8080/gp/GP?type=EXPORT&indikatoren=133&raumtyp=1&text=yes')"
   ]
  },
  {
   "cell_type": "code",
   "execution_count": 14,
   "metadata": {},
   "outputs": [],
   "source": [
    "def gemeinde_dataframe(raum_df_: pd.DataFrame) -> pd.DataFrame:\n",
    "    raum_dates = raum_df_.drop(['BFS', 'DATEN_VORHANDEN', 'ALLE_JAHRE', 'RAUMEINHEIT_ID', 'RAUMEINHEIT_NAME'], axis=1).astype(float)\n",
    "    raum_dates.columns = raum_df_.ALLE_JAHRE[0]\n",
    "    raum_dates.index = raum_df_.RAUMEINHEIT_NAME\n",
    "    return raum_dates"
   ]
  },
  {
   "cell_type": "code",
   "execution_count": 15,
   "metadata": {},
   "outputs": [],
   "source": [
    "def gemeinde_by_date(raum_df_: pd.DataFrame, gemeinde: str) -> pd.DataFrame:\n",
    "    df = raum_df_[raum_df_.RAUMEINHEIT_NAME == gemeinde]\n",
    "    ix = df.index[0]\n",
    "    years = df.ALLE_JAHRE.values[0]\n",
    "    df = df.drop(['BFS', 'DATEN_VORHANDEN', 'ALLE_JAHRE', 'RAUMEINHEIT_ID','RAUMEINHEIT_NAME'], axis=1).astype(float)\n",
    "    df.columns = years\n",
    "    return pd.DataFrame(df.stack()[ix], columns=[gemeinde])"
   ]
  }
 ],
 "metadata": {
  "kernelspec": {
   "display_name": "Python 3",
   "language": "python",
   "name": "python3"
  },
  "language_info": {
   "codemirror_mode": {
    "name": "ipython",
    "version": 3
   },
   "file_extension": ".py",
   "mimetype": "text/x-python",
   "name": "python",
   "nbconvert_exporter": "python",
   "pygments_lexer": "ipython3",
   "version": "3.5.0"
  }
 },
 "nbformat": 4,
 "nbformat_minor": 2
}
